{
 "cells": [
  {
   "cell_type": "markdown",
   "metadata": {},
   "source": [
    "# Ships demo\n",
    "\n",
    "Load and visualize vessel locations from July to September 2019"
   ]
  },
  {
   "cell_type": "code",
   "execution_count": null,
   "metadata": {},
   "outputs": [],
   "source": [
    "import time\n",
    "\n",
    "from datashader.utils import lnglat_to_meters\n",
    "import holoviews as hv\n",
    "import holoviews.operation.datashader as hd\n",
    "from holoviews.element import tiles\n",
    "from matplotlib import cm\n",
    "import numpy as np\n",
    "import pandas as pd\n",
    "import tiledb\n",
    "\n",
    "hv.extension(\"bokeh\", \"matplotlib\")\n",
    "\n",
    "tiledb_uri = 'tiledb://exactearth/ee_ais'\n",
    "\n",
    "config = tiledb.Config()\n",
    "\n",
    "# Set value\n",
    "config[\"sm.memory_budget\"] = 50_000_000\n",
    "config[\"sm.memory_budget_var\"] = 50_000_000\n",
    "\n",
    "ctx = tiledb.Ctx(config)"
   ]
  },
  {
   "cell_type": "markdown",
   "metadata": {},
   "source": [
    "Query for the area around Southampton, England. Note if querying for large areas then you should consider using a larger notebook or breaking the area into smaller queries and using [user defined functions](https://docs.tiledb.com/cloud/client-api/serverless-array-udfs)"
   ]
  },
  {
   "cell_type": "code",
   "execution_count": null,
   "metadata": {},
   "outputs": [],
   "source": [
    "%%time\n",
    "\n",
    "t1 = np.datetime64('2019-07-01T00:00:00')\n",
    "t2 = np.datetime64('2019-07-02T00:00:00')\n",
    "x1, x2, y1, y2 = [-1.7, -1.2,  50, 51.0]\n",
    "\n",
    "with tiledb.open(tiledb_uri, ctx=ctx) as arr:\n",
    "    pts = arr.query(attrs=[\"mmsi\"], dims=[\"longitude\", \"latitude\"]).multi_index[t1:t2, x1:x2, y1:y2]\n",
    "    \n",
    "print(f\"Retrieved {len(pts['longitude'])} vessels\")"
   ]
  },
  {
   "cell_type": "markdown",
   "metadata": {},
   "source": [
    "Turn the result into a Pandas dataframe"
   ]
  },
  {
   "cell_type": "code",
   "execution_count": null,
   "metadata": {},
   "outputs": [],
   "source": [
    "df = pd.DataFrame(pts)\n",
    "df.loc[:, 'x'], df.loc[:, 'y'] = lnglat_to_meters(df.longitude,df.latitude)\n",
    "df"
   ]
  },
  {
   "cell_type": "markdown",
   "metadata": {},
   "source": [
    "And visualize using datashader."
   ]
  },
  {
   "cell_type": "code",
   "execution_count": null,
   "metadata": {},
   "outputs": [],
   "source": [
    "%%time\n",
    "\n",
    "hv.output(backend=\"bokeh\")\n",
    "bkgrd = tiles.EsriImagery().opts(xaxis=None, yaxis=None, width=700, height=500)\n",
    "points = hv.Points(df, ['x', 'y'])\n",
    "bkgrd * hd.datashade(points, cmap=cm.plasma)"
   ]
  },
  {
   "cell_type": "code",
   "execution_count": null,
   "metadata": {},
   "outputs": [],
   "source": []
  }
 ],
 "metadata": {
  "kernelspec": {
   "display_name": "Python 3",
   "language": "python",
   "name": "python3"
  },
  "language_info": {
   "codemirror_mode": {
    "name": "ipython",
    "version": 3
   },
   "file_extension": ".py",
   "mimetype": "text/x-python",
   "name": "python",
   "nbconvert_exporter": "python",
   "pygments_lexer": "ipython3",
   "version": "3.7.9"
  }
 },
 "nbformat": 4,
 "nbformat_minor": 4
}
