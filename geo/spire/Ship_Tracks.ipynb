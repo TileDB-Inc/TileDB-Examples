{
 "cells": [
  {
   "cell_type": "markdown",
   "metadata": {},
   "source": [
    "# Track demo\n",
    "\n",
    "Track vessel by mmsi. Note if querying for large areas then you should consider using a larger notebook or breaking the area into smaller queries and using [user defined functions](https://docs.tiledb.com/cloud/client-api/serverless-array-udfs)"
   ]
  },
  {
   "cell_type": "code",
   "execution_count": null,
   "metadata": {},
   "outputs": [],
   "source": [
    "import time\n",
    "\n",
    "import datashader as ds\n",
    "from datashader.utils import lnglat_to_meters\n",
    "import holoviews as hv\n",
    "import holoviews.operation.datashader as hd\n",
    "from holoviews.element import tiles\n",
    "import matplotlib.pyplot as plt\n",
    "from matplotlib import cm\n",
    "import numpy as np\n",
    "import geopandas as gpd\n",
    "import tiledb\n",
    "\n",
    "import warnings\n",
    "warnings.filterwarnings(\"ignore\")\n",
    "\n",
    "hv.extension(\"bokeh\", \"matplotlib\")\n",
    "\n",
    "tiledb_mmsi_uri = 'tiledb://spire-data/mmsi_ais'\n",
    "\n",
    "config = tiledb.Config()\n",
    "\n",
    "# Set value\n",
    "config[\"sm.memory_budget\"] = 50_000_000\n",
    "config[\"sm.memory_budget_var\"] = 50_000_000\n",
    "\n",
    "ctx = tiledb.Ctx(config)"
   ]
  },
  {
   "cell_type": "markdown",
   "metadata": {},
   "source": [
    "The mmsi identifier we will use is `308371000`"
   ]
  },
  {
   "cell_type": "code",
   "execution_count": null,
   "metadata": {},
   "outputs": [],
   "source": [
    "%%time\n",
    "\n",
    "t1 = np.datetime64('2019-08-01T00:00:00')\n",
    "t2 = np.datetime64('2019-08-15T00:00:00')\n",
    "\n",
    "with tiledb.SparseArray(tiledb_mmsi_uri, ctx=ctx) as arr:\n",
    "    df = arr.query(attrs=['latitude', 'longitude'], dims=[\"ts_pos_utc\", \"mmsi\"]).df[t1:t2, 308371000]\n",
    "\n",
    "print(f\"Retrieved {len(df['longitude'])} points\")\n",
    "    \n",
    "df.sort_values(by=['ts_pos_utc'], inplace=True, ascending=True)\n",
    "df.loc[:, 'x'], df.loc[:, 'y'] = lnglat_to_meters(df.longitude,df.latitude)\n",
    "df"
   ]
  },
  {
   "cell_type": "markdown",
   "metadata": {},
   "source": [
    "Using existing data science tooling we can plot these points on a map"
   ]
  },
  {
   "cell_type": "code",
   "execution_count": null,
   "metadata": {},
   "outputs": [],
   "source": [
    "gdf = gpd.GeoDataFrame(df, geometry=gpd.points_from_xy(df.longitude, df.latitude), crs='epsg:4326')\n",
    "ax = gdf.plot(markersize=1.5, figsize=(8, 8))\n",
    "plt.autoscale(False)\n",
    "world = gpd.read_file(gpd.datasets.get_path('naturalearth_lowres'))\n",
    "world.to_crs(gdf.crs).plot(ax=ax, color='none', edgecolor='black')"
   ]
  },
  {
   "cell_type": "code",
   "execution_count": null,
   "metadata": {},
   "outputs": [],
   "source": [
    "%%time\n",
    "\n",
    "bkgrd = tiles.EsriImagery().opts(xaxis=None, yaxis=None, width=700, height=500)\n",
    "opts = hv.opts.RGB(width=500, height=500)\n",
    "bkgrd * hd.datashade(hv.Path(gdf, kdims=['x','y']), cmap='red', normalization='linear', aggregator=ds.any()).opts(opts)"
   ]
  },
  {
   "cell_type": "code",
   "execution_count": null,
   "metadata": {},
   "outputs": [],
   "source": []
  }
 ],
 "metadata": {
  "kernelspec": {
   "display_name": "Python 3",
   "language": "python",
   "name": "python3"
  },
  "language_info": {
   "codemirror_mode": {
    "name": "ipython",
    "version": 3
   },
   "file_extension": ".py",
   "mimetype": "text/x-python",
   "name": "python",
   "nbconvert_exporter": "python",
   "pygments_lexer": "ipython3",
   "version": "3.7.8"
  }
 },
 "nbformat": 4,
 "nbformat_minor": 4
}
