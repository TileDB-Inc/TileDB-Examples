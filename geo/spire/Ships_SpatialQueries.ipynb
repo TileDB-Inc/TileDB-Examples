{
 "cells": [
  {
   "cell_type": "markdown",
   "metadata": {},
   "source": [
    "# Perform spatial queries on points retrieved from TileDB\n",
    "\n",
    "Note if querying for large areas then you should consider using a larger notebook or breaking the area into smaller queries and using [user defined functions](https://docs.tiledb.com/cloud/client-api/serverless-array-udfs)"
   ]
  },
  {
   "cell_type": "code",
   "execution_count": null,
   "metadata": {},
   "outputs": [],
   "source": [
    "import time\n",
    "\n",
    "import numpy as np\n",
    "import geopandas as gpd\n",
    "import shapely\n",
    "import tiledb\n",
    "\n",
    "tiledb_uri = 'tiledb://spire-data/ais_tposutc_lat_lon'\n",
    "\n",
    "config = tiledb.Config()\n",
    "\n",
    "# Set value\n",
    "config[\"sm.memory_budget\"] = 50_000_000\n",
    "config[\"sm.memory_budget_var\"] = 50_000_000\n",
    "\n",
    "ctx = tiledb.Ctx(config)"
   ]
  },
  {
   "cell_type": "code",
   "execution_count": null,
   "metadata": {},
   "outputs": [],
   "source": [
    "%%time\n",
    "\n",
    "t1 = np.datetime64('2019-07-01T00:00:00')\n",
    "t2 = np.datetime64('2019-07-02T00:00:00')\n",
    "x1, x2, y1, y2 = [-1.7, -1.2,  50, 51.0]\n",
    "\n",
    "st = time.time()\n",
    "\n",
    "with tiledb.open(tiledb_uri, ctx=ctx) as arr:\n",
    "    df = arr.query(attrs=[\"mmsi\"], dims=[\"longitude\", \"latitude\"]).df[t1:t2, x1:x2, y1:y2]\n",
    "    \n",
    "print(f\"Retrieved {len(df['longitude'])} vessels\")"
   ]
  },
  {
   "cell_type": "markdown",
   "metadata": {},
   "source": [
    "We will make a GeoPandas dataframe to perform spatial queries"
   ]
  },
  {
   "cell_type": "code",
   "execution_count": null,
   "metadata": {},
   "outputs": [],
   "source": [
    "gdf = gpd.GeoDataFrame(df, geometry=gpd.points_from_xy(df.longitude, df.latitude), crs='epsg:4326')"
   ]
  },
  {
   "cell_type": "markdown",
   "metadata": {},
   "source": [
    "We will quickly inspect the array"
   ]
  },
  {
   "cell_type": "code",
   "execution_count": null,
   "metadata": {},
   "outputs": [],
   "source": [
    "gdf.head()"
   ]
  },
  {
   "cell_type": "markdown",
   "metadata": {},
   "source": [
    "We will pick one vessel and buffer the location to retrieve all of the vessels nearby"
   ]
  },
  {
   "cell_type": "code",
   "execution_count": null,
   "metadata": {},
   "outputs": [],
   "source": [
    "%%time\n",
    "\n",
    "pt = gdf.geometry[1000]\n",
    "thresh = 0.125\n",
    "\n",
    "bowtie = shapely.geometry.Polygon([\n",
    "          (pt.x - thresh, pt.y + thresh),\n",
    "          (pt.x, pt.y),\n",
    "          (pt.x - thresh, pt.y - thresh),\n",
    "          (pt.x + thresh, pt.y - thresh),\n",
    "          (pt.x, pt.y),\n",
    "          (pt.x + thresh, pt.y + thresh),\n",
    "          (pt.x - thresh, pt.y + thresh)]).buffer(0) # buffer by zero cleans the intersecting point\n",
    "\n",
    "r = gpd.clip(gdf, bowtie)"
   ]
  },
  {
   "cell_type": "code",
   "execution_count": null,
   "metadata": {},
   "outputs": [],
   "source": [
    "# note edge of original query in the result dataset\n",
    "r.plot()"
   ]
  },
  {
   "cell_type": "markdown",
   "metadata": {},
   "source": [
    "Alternatively use the spatial index directly"
   ]
  },
  {
   "cell_type": "code",
   "execution_count": null,
   "metadata": {},
   "outputs": [],
   "source": [
    "%%time\n",
    "\n",
    "spatial_index = gdf.sindex\n",
    "possible_matches_index = list(spatial_index.intersection(bowtie.bounds))\n",
    "possible_matches = gdf.iloc[possible_matches_index]\n",
    "precise_matches = possible_matches[possible_matches.intersects(bowtie)]"
   ]
  },
  {
   "cell_type": "code",
   "execution_count": null,
   "metadata": {},
   "outputs": [],
   "source": [
    "precise_matches.plot()"
   ]
  },
  {
   "cell_type": "markdown",
   "metadata": {},
   "source": [
    "Plot with datashader"
   ]
  },
  {
   "cell_type": "code",
   "execution_count": null,
   "metadata": {},
   "outputs": [],
   "source": [
    "import datashader as ds\n",
    "from datashader.utils import lnglat_to_meters\n",
    "import holoviews as hv\n",
    "import holoviews.operation.datashader as hd\n",
    "from holoviews.element import tiles\n",
    "from matplotlib import cm\n",
    "\n",
    "hv.extension(\"bokeh\", \"matplotlib\")"
   ]
  },
  {
   "cell_type": "code",
   "execution_count": null,
   "metadata": {},
   "outputs": [],
   "source": [
    "hv.output(backend=\"bokeh\")\n",
    "r.loc[:, 'x'], r.loc[:, 'y'] = lnglat_to_meters(r.longitude, r.latitude)\n",
    "bkgrd = tiles.EsriImagery().opts(xaxis=None, yaxis=None, width=700, height=500)\n",
    "points = hv.Points(r, ['x', 'y'])\n",
    "bkgrd * hd.datashade(points, cmap=cm.inferno)"
   ]
  },
  {
   "cell_type": "code",
   "execution_count": null,
   "metadata": {},
   "outputs": [],
   "source": []
  }
 ],
 "metadata": {
  "kernelspec": {
   "display_name": "Python 3",
   "language": "python",
   "name": "python3"
  },
  "language_info": {
   "codemirror_mode": {
    "name": "ipython",
    "version": 3
   },
   "file_extension": ".py",
   "mimetype": "text/x-python",
   "name": "python",
   "nbconvert_exporter": "python",
   "pygments_lexer": "ipython3",
   "version": "3.7.8"
  }
 },
 "nbformat": 4,
 "nbformat_minor": 4
}
