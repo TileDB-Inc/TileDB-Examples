{
 "cells": [
  {
   "cell_type": "markdown",
   "metadata": {},
   "source": [
    "# Introduction\n",
    "\n",
    "The `tiledbvcf` Python module allows you to create, update, and query TileDB-VCF datasets. It was specifically designed to facilitate fast, effcient, and convenient analysis of genomic variant data by returning queries as Pandas DataFrames via Apache Arrow's zero-copy access methods. It also provides interfaces for batch-processing queries and natively supports ingesting to and reading from remote data stores like S3.\n",
    "\n",
    "*Hint: By the way, you can launch an interactive version of this tutoral using TileDB Cloud Notebooks. Simply start a session with the Genomics & Geospatial image and use the integrated file browser to open the notebook: examples/genomics/02-vcf-python.ipynb.*\n",
    "\n",
    "\n",
    "## Setup\n",
    "\n",
    "This tutorial requires the following modules."
   ]
  },
  {
   "cell_type": "code",
   "execution_count": 1,
   "metadata": {},
   "outputs": [],
   "source": [
    "import tiledbvcf\n",
    "\n",
    "import os\n",
    "import tempfile\n",
    "import glob\n",
    "import pandas as pd"
   ]
  },
  {
   "cell_type": "markdown",
   "metadata": {},
   "source": [
    "# Ingest\n",
    "\n",
    "Similar to TileDB-VCF's command-line interface (CLI), `tiledbvcf` supports ingesting VCF (or BCF) files into TileDB, either when creating a new dataset *or* updating an existing datset with additional samples. See the [CLI tutorial](https://docs.tiledb.com/genomics/usage/cli) for a more detailed description of the ingestion process. Here, we'll only focus on the mechanics of ingestion from Python.\n",
    "\n",
    "## Local VCFs\n",
    "\n",
    "The `data/vcf` directory contains sample-level `vcf` files for the first 3 individuals from a synthetic dataset."
   ]
  },
  {
   "cell_type": "code",
   "execution_count": 2,
   "metadata": {},
   "outputs": [
    {
     "data": {
      "text/plain": [
       "['data/vcfs/G2.vcf.gz', 'data/vcfs/G3.vcf.gz', 'data/vcfs/G1.vcf.gz']"
      ]
     },
     "execution_count": 2,
     "metadata": {},
     "output_type": "execute_result"
    }
   ],
   "source": [
    "local_vcfs = glob.glob(\"data/vcfs/*vcf.gz\")\n",
    "local_vcfs"
   ]
  },
  {
   "cell_type": "markdown",
   "metadata": {},
   "source": [
    "Before you can ingest these files into TileDB an empty **TileDB VCF dataset** must first be created and opened in *write* mode."
   ]
  },
  {
   "cell_type": "code",
   "execution_count": 3,
   "metadata": {},
   "outputs": [
    {
     "data": {
      "text/plain": [
       "<tiledbvcf.dataset.Dataset at 0x7f85c9998110>"
      ]
     },
     "execution_count": 3,
     "metadata": {},
     "output_type": "execute_result"
    }
   ],
   "source": [
    "small_ds = tiledbvcf.Dataset('small_dataset2', mode = \"w\")\n",
    "small_ds"
   ]
  },
  {
   "cell_type": "markdown",
   "metadata": {},
   "source": [
    "This returns a new `Dataset` object, into which the VCF files can be ingested and stored."
   ]
  },
  {
   "cell_type": "code",
   "execution_count": 4,
   "metadata": {},
   "outputs": [],
   "source": [
    "small_ds.ingest_samples(local_vcfs)"
   ]
  },
  {
   "cell_type": "markdown",
   "metadata": {},
   "source": [
    "You can now re-open the dataset in *read* mode and begin to query it. For example, use `count()` to return the total number of ranges, across all samples contained within the dataset."
   ]
  },
  {
   "cell_type": "code",
   "execution_count": 5,
   "metadata": {},
   "outputs": [
    {
     "data": {
      "text/plain": [
       "603"
      ]
     },
     "execution_count": 5,
     "metadata": {},
     "output_type": "execute_result"
    }
   ],
   "source": [
    "small_ds = tiledbvcf.Dataset('small_dataset2', mode = \"r\")\n",
    "small_ds.count()"
   ]
  },
  {
   "cell_type": "markdown",
   "metadata": {},
   "source": [
    "## Remote VCFs\n",
    "\n",
    "As of v0.5, `tiledbvcf` supports ingesting VCF files directly from remote locations, like AWS S3. The text file `data/s3-bcf-samples.txt` contains a list of S3 URIs pointing to 7 BCF files from the same cohort."
   ]
  },
  {
   "cell_type": "code",
   "execution_count": 6,
   "metadata": {},
   "outputs": [
    {
     "data": {
      "text/plain": [
       "['s3://tiledb-inc-demo-data/examples/notebooks/vcfs/G4.bcf',\n",
       " 's3://tiledb-inc-demo-data/examples/notebooks/vcfs/G5.bcf',\n",
       " 's3://tiledb-inc-demo-data/examples/notebooks/vcfs/G6.bcf',\n",
       " 's3://tiledb-inc-demo-data/examples/notebooks/vcfs/G7.bcf',\n",
       " 's3://tiledb-inc-demo-data/examples/notebooks/vcfs/G8.bcf',\n",
       " 's3://tiledb-inc-demo-data/examples/notebooks/vcfs/G9.bcf',\n",
       " 's3://tiledb-inc-demo-data/examples/notebooks/vcfs/G10.bcf']"
      ]
     },
     "execution_count": 6,
     "metadata": {},
     "output_type": "execute_result"
    }
   ],
   "source": [
    "with open(\"data/s3-bcf-samples.txt\") as f:\n",
    "    sample_uris = [l.rstrip(\"\\n\") for l in f.readlines()]\n",
    "\n",
    "sample_uris"
   ]
  },
  {
   "cell_type": "markdown",
   "metadata": {},
   "source": [
    "You can add them to your existing dataset by re-opening it in *write* mode and providing the file URIs. It's also necessary to allocate scratch space so the files can be downloaded to a temporary location prior to ingestion.\n",
    "\n",
    "*Hint: You can find more details about memory and disk space requirements in the [Ingestion Algorithm](https://docs.tiledb.com/genomics/advanced/ingestion-algorithm#requirements) section.*"
   ]
  },
  {
   "cell_type": "code",
   "execution_count": 7,
   "metadata": {},
   "outputs": [],
   "source": [
    "small_ds = tiledbvcf.Dataset('small_dataset2', mode = \"w\")\n",
    "\n",
    "small_ds.ingest_samples(\n",
    "    sample_uris, \n",
    "    scratch_space_path = tempfile.gettempdir(), \n",
    "    scratch_space_size=10\n",
    ")"
   ]
  },
  {
   "cell_type": "markdown",
   "metadata": {},
   "source": [
    "The TileDB-VCF dataset located at `small_dataset2` now includes records for 660 variants across 10 samples. The next section provides examples demonstrating how to query this dataset.\n",
    "\n",
    "*Hint: To facilitate large ingestions, TileDB-VCF also integrates with [AWS Batch](https://aws.amazon.com/batch/) and provides a [helper script](https://github.com/TileDB-Inc/TileDB-VCF/blob/master/apis/aws-batch/batch-ingest.py) to use this service for parallelizing ingestion across a user-defined number of batches.*"
   ]
  },
  {
   "cell_type": "markdown",
   "metadata": {},
   "source": [
    "# Query Variant Data"
   ]
  },
  {
   "cell_type": "markdown",
   "metadata": {},
   "source": [
    "The `tiledbvcf.read()` function is your primary Python interface to the variant data stored in a TileDB-VCF dataset. It allows you to perform highly targeted queries and extract data for any subset of variants, samples, or attributes. To facilitate convenient downstream analysis, `tiledbvcf.read()` always returns results as a *pandas* `Data.Frame`."
   ]
  },
  {
   "cell_type": "markdown",
   "metadata": {},
   "source": [
    "Let's look at a small example focused on a few genes of interest. The genes are stored in a `dict` that indexes each gene's genomic range."
   ]
  },
  {
   "cell_type": "code",
   "execution_count": 8,
   "metadata": {},
   "outputs": [],
   "source": [
    "genes = {\n",
    "    \"ZNF595\": \"4:53227-196092\",\n",
    "    \"DOCK8\":  \"9:214865-465259\",\n",
    "    \"DIP2C\":  \"10:320130-735608\",\n",
    "    \"RPH3AL\": \"17:62180-202633\"\n",
    "}"
   ]
  },
  {
   "cell_type": "markdown",
   "metadata": {},
   "source": [
    "First, make sure you have opened the dataset in *read* mode."
   ]
  },
  {
   "cell_type": "code",
   "execution_count": 9,
   "metadata": {},
   "outputs": [],
   "source": [
    "small_ds = tiledbvcf.Dataset('small_dataset2', mode = \"r\")"
   ]
  },
  {
   "cell_type": "markdown",
   "metadata": {},
   "source": [
    "Here, we query our dataset for any variants that overlap *ZNF595* and specify which attributes to include in the results `DataFrame`."
   ]
  },
  {
   "cell_type": "code",
   "execution_count": 10,
   "metadata": {},
   "outputs": [
    {
     "data": {
      "text/html": [
       "<div>\n",
       "<style scoped>\n",
       "    .dataframe tbody tr th:only-of-type {\n",
       "        vertical-align: middle;\n",
       "    }\n",
       "\n",
       "    .dataframe tbody tr th {\n",
       "        vertical-align: top;\n",
       "    }\n",
       "\n",
       "    .dataframe thead th {\n",
       "        text-align: right;\n",
       "    }\n",
       "</style>\n",
       "<table border=\"1\" class=\"dataframe\">\n",
       "  <thead>\n",
       "    <tr style=\"text-align: right;\">\n",
       "      <th></th>\n",
       "      <th>sample_name</th>\n",
       "      <th>pos_start</th>\n",
       "    </tr>\n",
       "  </thead>\n",
       "  <tbody>\n",
       "    <tr>\n",
       "      <th>0</th>\n",
       "      <td>G2</td>\n",
       "      <td>10229</td>\n",
       "    </tr>\n",
       "    <tr>\n",
       "      <th>1</th>\n",
       "      <td>G1</td>\n",
       "      <td>34667</td>\n",
       "    </tr>\n",
       "    <tr>\n",
       "      <th>2</th>\n",
       "      <td>G2</td>\n",
       "      <td>71341</td>\n",
       "    </tr>\n",
       "    <tr>\n",
       "      <th>3</th>\n",
       "      <td>G1</td>\n",
       "      <td>96396</td>\n",
       "    </tr>\n",
       "    <tr>\n",
       "      <th>4</th>\n",
       "      <td>G2</td>\n",
       "      <td>144522</td>\n",
       "    </tr>\n",
       "    <tr>\n",
       "      <th>5</th>\n",
       "      <td>G1</td>\n",
       "      <td>164537</td>\n",
       "    </tr>\n",
       "  </tbody>\n",
       "</table>\n",
       "</div>"
      ],
      "text/plain": [
       "  sample_name  pos_start\n",
       "0          G2      10229\n",
       "1          G1      34667\n",
       "2          G2      71341\n",
       "3          G1      96396\n",
       "4          G2     144522\n",
       "5          G1     164537"
      ]
     },
     "execution_count": 10,
     "metadata": {},
     "output_type": "execute_result"
    }
   ],
   "source": [
    "small_ds.read(\n",
    "  attrs = ['sample_name', 'pos_start'], \n",
    "  samples = [\"G1\", \"G2\"],\n",
    "  regions = [genes.get(\"ZNF595\")]\n",
    ")"
   ]
  },
  {
   "cell_type": "markdown",
   "metadata": {},
   "source": [
    "The `attrs` argument accepts the following values:\n",
    "* `sample_name`\n",
    "* `id` (variant identifier)\n",
    "* `pos_start`\n",
    "* `pos_end`\n",
    "* `alleles`\n",
    "* `filters`\n",
    "\n",
    "Additionally, any individual `FORMAT` or `INFO` fields that were ingested into the dataset can be included by adding a `fmt_` or `info_` prefix, respectively. The TileDB-VCF schema uses these prefixes to avoid ambiguity in cases where an attribute like *DP* could come from the *FORMAT* or *INFO* field.\n",
    "\n",
    "*Hint: See the [API reference](https://docs.tiledb.com/genomics/apis/python#read) for a complete list of queryable attributes.*\n",
    "\n",
    "Let's expand this query to include a list of ranges so that all gene regions of interest are scanned for hits simultaneously. Additionally, search across *all* samples in the dataset, and include each variant's alleles and each sample's genotypes."
   ]
  },
  {
   "cell_type": "code",
   "execution_count": 11,
   "metadata": {},
   "outputs": [
    {
     "data": {
      "text/html": [
       "<div>\n",
       "<style scoped>\n",
       "    .dataframe tbody tr th:only-of-type {\n",
       "        vertical-align: middle;\n",
       "    }\n",
       "\n",
       "    .dataframe tbody tr th {\n",
       "        vertical-align: top;\n",
       "    }\n",
       "\n",
       "    .dataframe thead th {\n",
       "        text-align: right;\n",
       "    }\n",
       "</style>\n",
       "<table border=\"1\" class=\"dataframe\">\n",
       "  <thead>\n",
       "    <tr style=\"text-align: right;\">\n",
       "      <th></th>\n",
       "      <th>sample_name</th>\n",
       "      <th>contig</th>\n",
       "      <th>pos_start</th>\n",
       "      <th>pos_end</th>\n",
       "      <th>alleles</th>\n",
       "      <th>fmt_GT</th>\n",
       "    </tr>\n",
       "  </thead>\n",
       "  <tbody>\n",
       "    <tr>\n",
       "      <th>0</th>\n",
       "      <td>G2</td>\n",
       "      <td>4</td>\n",
       "      <td>10229</td>\n",
       "      <td>64580</td>\n",
       "      <td>[C, &lt;NON_REF&gt;]</td>\n",
       "      <td>[1, 0]</td>\n",
       "    </tr>\n",
       "    <tr>\n",
       "      <th>1</th>\n",
       "      <td>G1</td>\n",
       "      <td>4</td>\n",
       "      <td>34667</td>\n",
       "      <td>90547</td>\n",
       "      <td>[C, &lt;NON_REF&gt;]</td>\n",
       "      <td>[1, 0]</td>\n",
       "    </tr>\n",
       "    <tr>\n",
       "      <th>2</th>\n",
       "      <td>G3</td>\n",
       "      <td>4</td>\n",
       "      <td>11678</td>\n",
       "      <td>58526</td>\n",
       "      <td>[C, &lt;NON_REF&gt;]</td>\n",
       "      <td>[0, 1]</td>\n",
       "    </tr>\n",
       "    <tr>\n",
       "      <th>3</th>\n",
       "      <td>G3</td>\n",
       "      <td>4</td>\n",
       "      <td>58627</td>\n",
       "      <td>88895</td>\n",
       "      <td>[T, &lt;NON_REF&gt;]</td>\n",
       "      <td>[0, 1]</td>\n",
       "    </tr>\n",
       "    <tr>\n",
       "      <th>4</th>\n",
       "      <td>G2</td>\n",
       "      <td>4</td>\n",
       "      <td>71341</td>\n",
       "      <td>137942</td>\n",
       "      <td>[T, &lt;NON_REF&gt;]</td>\n",
       "      <td>[1, 1]</td>\n",
       "    </tr>\n",
       "    <tr>\n",
       "      <th>...</th>\n",
       "      <td>...</td>\n",
       "      <td>...</td>\n",
       "      <td>...</td>\n",
       "      <td>...</td>\n",
       "      <td>...</td>\n",
       "      <td>...</td>\n",
       "    </tr>\n",
       "    <tr>\n",
       "      <th>155</th>\n",
       "      <td>G9</td>\n",
       "      <td>17</td>\n",
       "      <td>137275</td>\n",
       "      <td>232420</td>\n",
       "      <td>[A, &lt;NON_REF&gt;]</td>\n",
       "      <td>[0, 0]</td>\n",
       "    </tr>\n",
       "    <tr>\n",
       "      <th>156</th>\n",
       "      <td>G8</td>\n",
       "      <td>17</td>\n",
       "      <td>161672</td>\n",
       "      <td>257573</td>\n",
       "      <td>[T, &lt;NON_REF&gt;]</td>\n",
       "      <td>[1, 1]</td>\n",
       "    </tr>\n",
       "    <tr>\n",
       "      <th>157</th>\n",
       "      <td>G10</td>\n",
       "      <td>17</td>\n",
       "      <td>170206</td>\n",
       "      <td>238775</td>\n",
       "      <td>[A, &lt;NON_REF&gt;]</td>\n",
       "      <td>[0, 0]</td>\n",
       "    </tr>\n",
       "    <tr>\n",
       "      <th>158</th>\n",
       "      <td>G4</td>\n",
       "      <td>17</td>\n",
       "      <td>190797</td>\n",
       "      <td>218870</td>\n",
       "      <td>[A, &lt;NON_REF&gt;]</td>\n",
       "      <td>[1, 0]</td>\n",
       "    </tr>\n",
       "    <tr>\n",
       "      <th>159</th>\n",
       "      <td>G7</td>\n",
       "      <td>17</td>\n",
       "      <td>196812</td>\n",
       "      <td>275464</td>\n",
       "      <td>[T, &lt;NON_REF&gt;]</td>\n",
       "      <td>[0, 1]</td>\n",
       "    </tr>\n",
       "  </tbody>\n",
       "</table>\n",
       "<p>160 rows × 6 columns</p>\n",
       "</div>"
      ],
      "text/plain": [
       "    sample_name contig  pos_start  pos_end         alleles  fmt_GT\n",
       "0            G2      4      10229    64580  [C, <NON_REF>]  [1, 0]\n",
       "1            G1      4      34667    90547  [C, <NON_REF>]  [1, 0]\n",
       "2            G3      4      11678    58526  [C, <NON_REF>]  [0, 1]\n",
       "3            G3      4      58627    88895  [T, <NON_REF>]  [0, 1]\n",
       "4            G2      4      71341   137942  [T, <NON_REF>]  [1, 1]\n",
       "..          ...    ...        ...      ...             ...     ...\n",
       "155          G9     17     137275   232420  [A, <NON_REF>]  [0, 0]\n",
       "156          G8     17     161672   257573  [T, <NON_REF>]  [1, 1]\n",
       "157         G10     17     170206   238775  [A, <NON_REF>]  [0, 0]\n",
       "158          G4     17     190797   218870  [A, <NON_REF>]  [1, 0]\n",
       "159          G7     17     196812   275464  [T, <NON_REF>]  [0, 1]\n",
       "\n",
       "[160 rows x 6 columns]"
      ]
     },
     "execution_count": 11,
     "metadata": {},
     "output_type": "execute_result"
    }
   ],
   "source": [
    "samples = [\"G\" + str(i) for i in range(1,11)]\n",
    "\n",
    "df = small_ds.read(\n",
    "  attrs = [\"sample_name\", 'contig', 'pos_start', 'pos_end', 'alleles', 'fmt_GT'], \n",
    "  samples = samples,\n",
    "  regions = list(genes.values())\n",
    ")\n",
    "\n",
    "df"
   ]
  },
  {
   "cell_type": "markdown",
   "metadata": {},
   "source": [
    "The output format from `read()` is always a `DataFrame` in *\"long\"* format, in which each row represents an individual variant indexed by a specific sample and genomic position. However, you can easily reformat into a *\"wide\"* variant &times; sample genotype matrix using the `pivot()` method provided by *pandas*."
   ]
  },
  {
   "cell_type": "code",
   "execution_count": 12,
   "metadata": {},
   "outputs": [
    {
     "data": {
      "text/html": [
       "<div>\n",
       "<style scoped>\n",
       "    .dataframe tbody tr th:only-of-type {\n",
       "        vertical-align: middle;\n",
       "    }\n",
       "\n",
       "    .dataframe tbody tr th {\n",
       "        vertical-align: top;\n",
       "    }\n",
       "\n",
       "    .dataframe thead tr th {\n",
       "        text-align: left;\n",
       "    }\n",
       "\n",
       "    .dataframe thead tr:last-of-type th {\n",
       "        text-align: right;\n",
       "    }\n",
       "</style>\n",
       "<table border=\"1\" class=\"dataframe\">\n",
       "  <thead>\n",
       "    <tr>\n",
       "      <th></th>\n",
       "      <th></th>\n",
       "      <th colspan=\"10\" halign=\"left\">fmt_GT</th>\n",
       "    </tr>\n",
       "    <tr>\n",
       "      <th></th>\n",
       "      <th>sample_name</th>\n",
       "      <th>G1</th>\n",
       "      <th>G10</th>\n",
       "      <th>G2</th>\n",
       "      <th>G3</th>\n",
       "      <th>G4</th>\n",
       "      <th>G5</th>\n",
       "      <th>G6</th>\n",
       "      <th>G7</th>\n",
       "      <th>G8</th>\n",
       "      <th>G9</th>\n",
       "    </tr>\n",
       "    <tr>\n",
       "      <th>contig</th>\n",
       "      <th>pos_start</th>\n",
       "      <th></th>\n",
       "      <th></th>\n",
       "      <th></th>\n",
       "      <th></th>\n",
       "      <th></th>\n",
       "      <th></th>\n",
       "      <th></th>\n",
       "      <th></th>\n",
       "      <th></th>\n",
       "      <th></th>\n",
       "    </tr>\n",
       "  </thead>\n",
       "  <tbody>\n",
       "    <tr>\n",
       "      <th rowspan=\"5\" valign=\"top\">10</th>\n",
       "      <th>249832</th>\n",
       "      <td>NaN</td>\n",
       "      <td>NaN</td>\n",
       "      <td>NaN</td>\n",
       "      <td>NaN</td>\n",
       "      <td>[1, 1]</td>\n",
       "      <td>NaN</td>\n",
       "      <td>NaN</td>\n",
       "      <td>NaN</td>\n",
       "      <td>NaN</td>\n",
       "      <td>NaN</td>\n",
       "    </tr>\n",
       "    <tr>\n",
       "      <th>251972</th>\n",
       "      <td>NaN</td>\n",
       "      <td>NaN</td>\n",
       "      <td>[0, 0]</td>\n",
       "      <td>NaN</td>\n",
       "      <td>NaN</td>\n",
       "      <td>NaN</td>\n",
       "      <td>NaN</td>\n",
       "      <td>NaN</td>\n",
       "      <td>NaN</td>\n",
       "      <td>NaN</td>\n",
       "    </tr>\n",
       "    <tr>\n",
       "      <th>265213</th>\n",
       "      <td>NaN</td>\n",
       "      <td>NaN</td>\n",
       "      <td>NaN</td>\n",
       "      <td>NaN</td>\n",
       "      <td>NaN</td>\n",
       "      <td>[1, 1]</td>\n",
       "      <td>NaN</td>\n",
       "      <td>NaN</td>\n",
       "      <td>NaN</td>\n",
       "      <td>NaN</td>\n",
       "    </tr>\n",
       "    <tr>\n",
       "      <th>271448</th>\n",
       "      <td>NaN</td>\n",
       "      <td>NaN</td>\n",
       "      <td>NaN</td>\n",
       "      <td>NaN</td>\n",
       "      <td>NaN</td>\n",
       "      <td>NaN</td>\n",
       "      <td>NaN</td>\n",
       "      <td>NaN</td>\n",
       "      <td>NaN</td>\n",
       "      <td>[1, 1]</td>\n",
       "    </tr>\n",
       "    <tr>\n",
       "      <th>279584</th>\n",
       "      <td>NaN</td>\n",
       "      <td>NaN</td>\n",
       "      <td>NaN</td>\n",
       "      <td>NaN</td>\n",
       "      <td>NaN</td>\n",
       "      <td>NaN</td>\n",
       "      <td>NaN</td>\n",
       "      <td>[1, 1]</td>\n",
       "      <td>NaN</td>\n",
       "      <td>NaN</td>\n",
       "    </tr>\n",
       "    <tr>\n",
       "      <th>...</th>\n",
       "      <th>...</th>\n",
       "      <td>...</td>\n",
       "      <td>...</td>\n",
       "      <td>...</td>\n",
       "      <td>...</td>\n",
       "      <td>...</td>\n",
       "      <td>...</td>\n",
       "      <td>...</td>\n",
       "      <td>...</td>\n",
       "      <td>...</td>\n",
       "      <td>...</td>\n",
       "    </tr>\n",
       "    <tr>\n",
       "      <th rowspan=\"5\" valign=\"top\">9</th>\n",
       "      <th>415516</th>\n",
       "      <td>NaN</td>\n",
       "      <td>NaN</td>\n",
       "      <td>NaN</td>\n",
       "      <td>NaN</td>\n",
       "      <td>NaN</td>\n",
       "      <td>NaN</td>\n",
       "      <td>NaN</td>\n",
       "      <td>NaN</td>\n",
       "      <td>NaN</td>\n",
       "      <td>[1, 1]</td>\n",
       "    </tr>\n",
       "    <tr>\n",
       "      <th>422045</th>\n",
       "      <td>[0, 1]</td>\n",
       "      <td>NaN</td>\n",
       "      <td>NaN</td>\n",
       "      <td>NaN</td>\n",
       "      <td>NaN</td>\n",
       "      <td>NaN</td>\n",
       "      <td>NaN</td>\n",
       "      <td>NaN</td>\n",
       "      <td>NaN</td>\n",
       "      <td>NaN</td>\n",
       "    </tr>\n",
       "    <tr>\n",
       "      <th>422068</th>\n",
       "      <td>NaN</td>\n",
       "      <td>NaN</td>\n",
       "      <td>NaN</td>\n",
       "      <td>NaN</td>\n",
       "      <td>NaN</td>\n",
       "      <td>NaN</td>\n",
       "      <td>NaN</td>\n",
       "      <td>[0, 0]</td>\n",
       "      <td>NaN</td>\n",
       "      <td>NaN</td>\n",
       "    </tr>\n",
       "    <tr>\n",
       "      <th>450228</th>\n",
       "      <td>NaN</td>\n",
       "      <td>NaN</td>\n",
       "      <td>NaN</td>\n",
       "      <td>[0, 0]</td>\n",
       "      <td>NaN</td>\n",
       "      <td>NaN</td>\n",
       "      <td>NaN</td>\n",
       "      <td>NaN</td>\n",
       "      <td>NaN</td>\n",
       "      <td>NaN</td>\n",
       "    </tr>\n",
       "    <tr>\n",
       "      <th>464150</th>\n",
       "      <td>NaN</td>\n",
       "      <td>NaN</td>\n",
       "      <td>NaN</td>\n",
       "      <td>NaN</td>\n",
       "      <td>NaN</td>\n",
       "      <td>[0, 1]</td>\n",
       "      <td>NaN</td>\n",
       "      <td>NaN</td>\n",
       "      <td>NaN</td>\n",
       "      <td>NaN</td>\n",
       "    </tr>\n",
       "  </tbody>\n",
       "</table>\n",
       "<p>160 rows × 10 columns</p>\n",
       "</div>"
      ],
      "text/plain": [
       "                  fmt_GT                                                    \\\n",
       "sample_name           G1  G10      G2      G3      G4      G5   G6      G7   \n",
       "contig pos_start                                                             \n",
       "10     249832        NaN  NaN     NaN     NaN  [1, 1]     NaN  NaN     NaN   \n",
       "       251972        NaN  NaN  [0, 0]     NaN     NaN     NaN  NaN     NaN   \n",
       "       265213        NaN  NaN     NaN     NaN     NaN  [1, 1]  NaN     NaN   \n",
       "       271448        NaN  NaN     NaN     NaN     NaN     NaN  NaN     NaN   \n",
       "       279584        NaN  NaN     NaN     NaN     NaN     NaN  NaN  [1, 1]   \n",
       "...                  ...  ...     ...     ...     ...     ...  ...     ...   \n",
       "9      415516        NaN  NaN     NaN     NaN     NaN     NaN  NaN     NaN   \n",
       "       422045     [0, 1]  NaN     NaN     NaN     NaN     NaN  NaN     NaN   \n",
       "       422068        NaN  NaN     NaN     NaN     NaN     NaN  NaN  [0, 0]   \n",
       "       450228        NaN  NaN     NaN  [0, 0]     NaN     NaN  NaN     NaN   \n",
       "       464150        NaN  NaN     NaN     NaN     NaN  [0, 1]  NaN     NaN   \n",
       "\n",
       "                               \n",
       "sample_name        G8      G9  \n",
       "contig pos_start               \n",
       "10     249832     NaN     NaN  \n",
       "       251972     NaN     NaN  \n",
       "       265213     NaN     NaN  \n",
       "       271448     NaN  [1, 1]  \n",
       "       279584     NaN     NaN  \n",
       "...               ...     ...  \n",
       "9      415516     NaN  [1, 1]  \n",
       "       422045     NaN     NaN  \n",
       "       422068     NaN     NaN  \n",
       "       450228     NaN     NaN  \n",
       "       464150     NaN     NaN  \n",
       "\n",
       "[160 rows x 10 columns]"
      ]
     },
     "execution_count": 12,
     "metadata": {},
     "output_type": "execute_result"
    }
   ],
   "source": [
    "df_wide = df.copy()\n",
    "df_wide = df_wide.set_index([\"contig\", \"pos_start\"])\n",
    "df_wide[[\"sample_name\", \"fmt_GT\"]].pivot(columns = \"sample_name\")"
   ]
  },
  {
   "cell_type": "markdown",
   "metadata": {},
   "source": [
    "At this point, you've created and queried a small example dataset. Next you will work with a more realistically sized dataset and utilize `tiledfvcf`'s features for handling large queries, which enable incremental/out-of-core processing in the event that the requested data is too large to fit in main memory."
   ]
  },
  {
   "cell_type": "markdown",
   "metadata": {},
   "source": [
    "# Handling Large Queries\n",
    "\n",
    "Unlike the CLI, which exports directly to disk, results for queries performed using Python are read into memory. Therefore, when querying even moderately sized genomic datasets, the amount of available memory must be taken into consideration. \n",
    "\n",
    "Here, we will demonstrate several of `tilebvcf`'s features for overcoming memory limitations when querying large datasets. To do so, the following examples will utilize a new example TileDB-VCF dataset that contains 20 samples with over 20 million variants each. This dataset is publicly available on S3 and TileDB Cloud, and can be access with `tiledbvcf` by simply providing the appropriate URI."
   ]
  },
  {
   "cell_type": "code",
   "execution_count": 13,
   "metadata": {},
   "outputs": [],
   "source": [
    "# uri = \"tiledb://vcf-samples-20\"\n",
    "uri = \"s3://tiledb-inc-demo-data/tiledbvcf-arrays/v2/vcf-samples-20\""
   ]
  },
  {
   "cell_type": "markdown",
   "metadata": {},
   "source": [
    "## Memory Budget\n",
    "\n",
    "One strategy for accommodating large queries is to simply increase the amount of memory available to `tiledbvcf`. By default `tiledbvcf` allocates 2Gb of memory for queries. However, this value can be adjusted using the `memory_budget_mb` parameter. For the purposes of this tutorial the budget will be *decreased* to demonstrate how `tiledbvcf` is able to perform genome-scale queries even in a memory constrained environment."
   ]
  },
  {
   "cell_type": "code",
   "execution_count": 14,
   "metadata": {},
   "outputs": [],
   "source": [
    "cfg = tiledbvcf.ReadConfig(memory_budget_mb=256)\n",
    "ds = tiledbvcf.Dataset(uri, mode = \"r\", cfg = cfg)"
   ]
  },
  {
   "cell_type": "markdown",
   "metadata": {},
   "source": [
    "You can read more about how TileDB-VCF allocates memory [here](https://docs.tiledb.com/genomics/advanced/read-algorithm#buffer-allocation).\n",
    "\n",
    "## Batched Reads\n",
    "\n",
    "For queries that encompass many genomic regions you can simply provide an external `bed` file. In this example, you will query for any variants located in the promoter region of a known gene located on chromosomes 1–4. \n",
    "\n",
    "After performing a query, you can use `read_completed()` to verify whether or not *all* results were succesfully returned."
   ]
  },
  {
   "cell_type": "code",
   "execution_count": 15,
   "metadata": {},
   "outputs": [
    {
     "data": {
      "text/plain": [
       "False"
      ]
     },
     "execution_count": 15,
     "metadata": {},
     "output_type": "execute_result"
    }
   ],
   "source": [
    "attrs = [\"sample_name\", \"contig\", \"pos_start\", \"fmt_GT\"]\n",
    "df = ds.read(attrs, bed_file = \"data/gene-promoters-hg38.bed\")\n",
    "ds.read_completed()"
   ]
  },
  {
   "cell_type": "markdown",
   "metadata": {},
   "source": [
    "In this case, it returned `False`, indicating the requested data was too large to fit into the allocated memory so `tiledbvcf` retrieved as many records as possible in this first batch. The reamining records can be retrieved using `continue_read()`. Here, we've setup our code to accomodate the possibility that the full set of results are split across multiple batches."
   ]
  },
  {
   "cell_type": "code",
   "execution_count": 16,
   "metadata": {},
   "outputs": [
    {
     "name": "stdout",
     "output_type": "stream",
     "text": [
      "The dataframe contains\n",
      "\t...1525201 rows\n",
      "\t...3050402 rows\n",
      "\t...3808687 rows\n"
     ]
    }
   ],
   "source": [
    "print (\"The dataframe contains\")\n",
    "\n",
    "while not ds.read_completed():\n",
    "    print (f\"\\t...{df.shape[0]} rows\")\n",
    "    df = df.append(ds.continue_read())\n",
    "\n",
    "print (f\"\\t...{df.shape[0]} rows\")"
   ]
  },
  {
   "cell_type": "markdown",
   "metadata": {},
   "source": [
    "Here is the final dataframe, which includes 3,808,687 records:"
   ]
  },
  {
   "cell_type": "code",
   "execution_count": 17,
   "metadata": {},
   "outputs": [
    {
     "data": {
      "text/html": [
       "<div>\n",
       "<style scoped>\n",
       "    .dataframe tbody tr th:only-of-type {\n",
       "        vertical-align: middle;\n",
       "    }\n",
       "\n",
       "    .dataframe tbody tr th {\n",
       "        vertical-align: top;\n",
       "    }\n",
       "\n",
       "    .dataframe thead th {\n",
       "        text-align: right;\n",
       "    }\n",
       "</style>\n",
       "<table border=\"1\" class=\"dataframe\">\n",
       "  <thead>\n",
       "    <tr style=\"text-align: right;\">\n",
       "      <th></th>\n",
       "      <th>sample_name</th>\n",
       "      <th>contig</th>\n",
       "      <th>pos_start</th>\n",
       "      <th>fmt_GT</th>\n",
       "    </tr>\n",
       "  </thead>\n",
       "  <tbody>\n",
       "    <tr>\n",
       "      <th>0</th>\n",
       "      <td>v2-DjrIAzkP</td>\n",
       "      <td>chr1</td>\n",
       "      <td>1</td>\n",
       "      <td>[-1, -1]</td>\n",
       "    </tr>\n",
       "    <tr>\n",
       "      <th>1</th>\n",
       "      <td>v2-IiOpvyno</td>\n",
       "      <td>chr1</td>\n",
       "      <td>1</td>\n",
       "      <td>[-1, -1]</td>\n",
       "    </tr>\n",
       "    <tr>\n",
       "      <th>2</th>\n",
       "      <td>v2-Mcwmkqnx</td>\n",
       "      <td>chr1</td>\n",
       "      <td>1</td>\n",
       "      <td>[-1, -1]</td>\n",
       "    </tr>\n",
       "    <tr>\n",
       "      <th>3</th>\n",
       "      <td>v2-OQnVEHdQ</td>\n",
       "      <td>chr1</td>\n",
       "      <td>1</td>\n",
       "      <td>[-1, -1]</td>\n",
       "    </tr>\n",
       "    <tr>\n",
       "      <th>4</th>\n",
       "      <td>v2-PDeVyHSO</td>\n",
       "      <td>chr1</td>\n",
       "      <td>1</td>\n",
       "      <td>[-1, -1]</td>\n",
       "    </tr>\n",
       "    <tr>\n",
       "      <th>...</th>\n",
       "      <td>...</td>\n",
       "      <td>...</td>\n",
       "      <td>...</td>\n",
       "      <td>...</td>\n",
       "    </tr>\n",
       "    <tr>\n",
       "      <th>758280</th>\n",
       "      <td>v2-usVwJUmo</td>\n",
       "      <td>chr4</td>\n",
       "      <td>190062968</td>\n",
       "      <td>[-1, -1]</td>\n",
       "    </tr>\n",
       "    <tr>\n",
       "      <th>758281</th>\n",
       "      <td>v2-ijrKdkKh</td>\n",
       "      <td>chr4</td>\n",
       "      <td>190063018</td>\n",
       "      <td>[-1, -1]</td>\n",
       "    </tr>\n",
       "    <tr>\n",
       "      <th>758282</th>\n",
       "      <td>v2-nGEAqwFT</td>\n",
       "      <td>chr4</td>\n",
       "      <td>190063027</td>\n",
       "      <td>[-1, -1]</td>\n",
       "    </tr>\n",
       "    <tr>\n",
       "      <th>758283</th>\n",
       "      <td>v2-nzLyDgYW</td>\n",
       "      <td>chr4</td>\n",
       "      <td>190063182</td>\n",
       "      <td>[-1, -1]</td>\n",
       "    </tr>\n",
       "    <tr>\n",
       "      <th>758284</th>\n",
       "      <td>v2-xRPczpsP</td>\n",
       "      <td>chr4</td>\n",
       "      <td>190063221</td>\n",
       "      <td>[-1, -1]</td>\n",
       "    </tr>\n",
       "  </tbody>\n",
       "</table>\n",
       "<p>3808687 rows × 4 columns</p>\n",
       "</div>"
      ],
      "text/plain": [
       "        sample_name contig  pos_start    fmt_GT\n",
       "0       v2-DjrIAzkP   chr1          1  [-1, -1]\n",
       "1       v2-IiOpvyno   chr1          1  [-1, -1]\n",
       "2       v2-Mcwmkqnx   chr1          1  [-1, -1]\n",
       "3       v2-OQnVEHdQ   chr1          1  [-1, -1]\n",
       "4       v2-PDeVyHSO   chr1          1  [-1, -1]\n",
       "...             ...    ...        ...       ...\n",
       "758280  v2-usVwJUmo   chr4  190062968  [-1, -1]\n",
       "758281  v2-ijrKdkKh   chr4  190063018  [-1, -1]\n",
       "758282  v2-nGEAqwFT   chr4  190063027  [-1, -1]\n",
       "758283  v2-nzLyDgYW   chr4  190063182  [-1, -1]\n",
       "758284  v2-xRPczpsP   chr4  190063221  [-1, -1]\n",
       "\n",
       "[3808687 rows x 4 columns]"
      ]
     },
     "execution_count": 17,
     "metadata": {},
     "output_type": "execute_result"
    }
   ],
   "source": [
    "df"
   ]
  },
  {
   "cell_type": "markdown",
   "metadata": {},
   "source": [
    "## Iteration\n",
    "\n",
    "A Python generator version of read function is also provided. This pattern provides a powerful interface for batch processing variant data."
   ]
  },
  {
   "cell_type": "code",
   "execution_count": 18,
   "metadata": {},
   "outputs": [
    {
     "data": {
      "text/html": [
       "<div>\n",
       "<style scoped>\n",
       "    .dataframe tbody tr th:only-of-type {\n",
       "        vertical-align: middle;\n",
       "    }\n",
       "\n",
       "    .dataframe tbody tr th {\n",
       "        vertical-align: top;\n",
       "    }\n",
       "\n",
       "    .dataframe thead th {\n",
       "        text-align: right;\n",
       "    }\n",
       "</style>\n",
       "<table border=\"1\" class=\"dataframe\">\n",
       "  <thead>\n",
       "    <tr style=\"text-align: right;\">\n",
       "      <th></th>\n",
       "      <th>sample_name</th>\n",
       "      <th>contig</th>\n",
       "      <th>pos_start</th>\n",
       "      <th>fmt_GT</th>\n",
       "    </tr>\n",
       "  </thead>\n",
       "  <tbody>\n",
       "    <tr>\n",
       "      <th>0</th>\n",
       "      <td>v2-DjrIAzkP</td>\n",
       "      <td>chr1</td>\n",
       "      <td>1</td>\n",
       "      <td>[-1, -1]</td>\n",
       "    </tr>\n",
       "    <tr>\n",
       "      <th>1</th>\n",
       "      <td>v2-IiOpvyno</td>\n",
       "      <td>chr1</td>\n",
       "      <td>1</td>\n",
       "      <td>[-1, -1]</td>\n",
       "    </tr>\n",
       "    <tr>\n",
       "      <th>2</th>\n",
       "      <td>v2-Mcwmkqnx</td>\n",
       "      <td>chr1</td>\n",
       "      <td>1</td>\n",
       "      <td>[-1, -1]</td>\n",
       "    </tr>\n",
       "    <tr>\n",
       "      <th>3</th>\n",
       "      <td>v2-OQnVEHdQ</td>\n",
       "      <td>chr1</td>\n",
       "      <td>1</td>\n",
       "      <td>[-1, -1]</td>\n",
       "    </tr>\n",
       "    <tr>\n",
       "      <th>4</th>\n",
       "      <td>v2-PDeVyHSO</td>\n",
       "      <td>chr1</td>\n",
       "      <td>1</td>\n",
       "      <td>[-1, -1]</td>\n",
       "    </tr>\n",
       "    <tr>\n",
       "      <th>...</th>\n",
       "      <td>...</td>\n",
       "      <td>...</td>\n",
       "      <td>...</td>\n",
       "      <td>...</td>\n",
       "    </tr>\n",
       "    <tr>\n",
       "      <th>3808682</th>\n",
       "      <td>v2-usVwJUmo</td>\n",
       "      <td>chr4</td>\n",
       "      <td>190062968</td>\n",
       "      <td>[-1, -1]</td>\n",
       "    </tr>\n",
       "    <tr>\n",
       "      <th>3808683</th>\n",
       "      <td>v2-ijrKdkKh</td>\n",
       "      <td>chr4</td>\n",
       "      <td>190063018</td>\n",
       "      <td>[-1, -1]</td>\n",
       "    </tr>\n",
       "    <tr>\n",
       "      <th>3808684</th>\n",
       "      <td>v2-nGEAqwFT</td>\n",
       "      <td>chr4</td>\n",
       "      <td>190063027</td>\n",
       "      <td>[-1, -1]</td>\n",
       "    </tr>\n",
       "    <tr>\n",
       "      <th>3808685</th>\n",
       "      <td>v2-nzLyDgYW</td>\n",
       "      <td>chr4</td>\n",
       "      <td>190063182</td>\n",
       "      <td>[-1, -1]</td>\n",
       "    </tr>\n",
       "    <tr>\n",
       "      <th>3808686</th>\n",
       "      <td>v2-xRPczpsP</td>\n",
       "      <td>chr4</td>\n",
       "      <td>190063221</td>\n",
       "      <td>[-1, -1]</td>\n",
       "    </tr>\n",
       "  </tbody>\n",
       "</table>\n",
       "<p>3808687 rows × 4 columns</p>\n",
       "</div>"
      ],
      "text/plain": [
       "         sample_name contig  pos_start    fmt_GT\n",
       "0        v2-DjrIAzkP   chr1          1  [-1, -1]\n",
       "1        v2-IiOpvyno   chr1          1  [-1, -1]\n",
       "2        v2-Mcwmkqnx   chr1          1  [-1, -1]\n",
       "3        v2-OQnVEHdQ   chr1          1  [-1, -1]\n",
       "4        v2-PDeVyHSO   chr1          1  [-1, -1]\n",
       "...              ...    ...        ...       ...\n",
       "3808682  v2-usVwJUmo   chr4  190062968  [-1, -1]\n",
       "3808683  v2-ijrKdkKh   chr4  190063018  [-1, -1]\n",
       "3808684  v2-nGEAqwFT   chr4  190063027  [-1, -1]\n",
       "3808685  v2-nzLyDgYW   chr4  190063182  [-1, -1]\n",
       "3808686  v2-xRPczpsP   chr4  190063221  [-1, -1]\n",
       "\n",
       "[3808687 rows x 4 columns]"
      ]
     },
     "execution_count": 18,
     "metadata": {},
     "output_type": "execute_result"
    }
   ],
   "source": [
    "ds = tiledbvcf.Dataset(uri, mode = \"r\", cfg = cfg)\n",
    "\n",
    "df = pd.DataFrame()\n",
    "for batch in ds.read_iter(attrs, bed_file = \"data/gene-promoters-hg38.bed\"):\n",
    "    df = df.append(batch, ignore_index = True)\n",
    "    \n",
    "df"
   ]
  },
  {
   "cell_type": "markdown",
   "metadata": {},
   "source": [
    "# Session"
   ]
  },
  {
   "cell_type": "code",
   "execution_count": 19,
   "metadata": {},
   "outputs": [
    {
     "data": {
      "text/plain": [
       "'0.5.1.dev7'"
      ]
     },
     "execution_count": 19,
     "metadata": {},
     "output_type": "execute_result"
    }
   ],
   "source": [
    "tiledbvcf.version"
   ]
  }
 ],
 "metadata": {
  "kernelspec": {
   "display_name": "Python 3",
   "language": "python",
   "name": "python3"
  },
  "language_info": {
   "codemirror_mode": {
    "name": "ipython",
    "version": 3
   },
   "file_extension": ".py",
   "mimetype": "text/x-python",
   "name": "python",
   "nbconvert_exporter": "python",
   "pygments_lexer": "ipython3",
   "version": "3.7.6"
  }
 },
 "nbformat": 4,
 "nbformat_minor": 4
}
